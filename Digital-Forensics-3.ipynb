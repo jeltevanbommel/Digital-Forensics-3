{
 "cells": [
  {
   "cell_type": "markdown",
   "metadata": {},
   "source": [
    "# Introduction to Digital Forensics for cybercrime\n",
    "#### Assignment 3\n",
    "\n",
    "**Group 5**<br/>\n",
    "Fatema Alammal s2058502<br/>\n",
    "Ellen Wittingen s2095610<br/>\n",
    "Anniek Megens s1982869<br/>\n",
    "Jelte van Bommel s2136074<br/>\n",
    "Denis Arva s2188511<br/>\n",
    "Joel Tyhaar s2138603<br/>\n"
   ]
  },
  {
   "cell_type": "markdown",
   "metadata": {},
   "source": [
    "## Introduction, motivation and goals\n",
    "In the recent COVID19-pandemic our daily activities for school, work, shopping and many others have been forced to go online. It is essential that these online services remain working to complete our daily tasks. However, bad actors recognize this as well and have started targeted DDoS attacks against medical organizations, delivery services, gaming and educational platforms.  In Q1 of 2020 there were twice as many DDoS attacks reported than in Q4 of 2019 (Kupreev et al, 2020). Those DDoS attacks can be bought for as little as 25$ per hour on so called 'Booter' websites (Makrushin, 2017). These are websites that offers a DDoS attack as a service to customers. Supposedly so customers can stress test their own server(s), if they lack the resources or are equipped with less powerful machines than a booter service could offer. The use of a booter can be legal in the case that the attack targets one’s own device, given that the terms and conditions of any service being used - for example the internet service provider- are not violated. The contrary case, where an attack is performed without the owner's consent, such that a platform becomes unavailable, is illegal. The website owner that is under attack is no longer able to serve his users, is running into the risk of losing reputation and revenues or even having users switch to competitors, resulting in long-term damages to the business.\n",
    "\n",
    "In 2013, the cybersecurity journalist Brian Krebs made the SQL database dump of one of these booter websites, TWBooter, available on his site: krebsonsecurity.com. After being attacked in March 2013, Krebs began to investigate the source of the attack. He found out that somebody paid for a DDoS attack to shut down his website through TWBooter. He was able to access TWBooter’s database archive and get hold of its database, which he then uploaded to his website. Such a database dump is a unique opportunity to look under the hood of these booter websites, and may give valuable insights into the operation of these booters. This report covers the analysis of the database, which was filtered on the attacks only. The main goal of this analysis is to understand the type as well as the scale of the attacks performed through TWBooter, to ultimately aid in preventing DDoS attacks. \n",
    "\n",
    "Kupreev, O. Badovskaya, E. Gutnikov, A. (2020, May 6). DDoS attacks in Q1 2020. Retrieved October 16, 2020 from https://securelist.com/ddos-attacks-in-q1-2020/96837/\n",
    "\n",
    "Makrushin, D. (2017, March 23). The cost of launching a DDoS attack. Retrieved October 16, 2020 from https://securelist.com/the-cost-of-launching-a-ddos-attack/77784/\n"
   ]
  },
  {
   "cell_type": "markdown",
   "metadata": {},
   "source": [
    "## Methodology/Results\n",
    "The database dump which contains the details about the attacks caused by TWBooter in 2013 is hosted on krebsonsecurity.com. This dump is a SQL database dump and therefore hard to analyze without using SQL queries. Thus the 'attack' table of the dump has been exported to an Excel document by Jair Santanna. This dump has been saved as a CSV file with Microsoft Office Excel. This CSV file is also included in the repository. This dump can now be imported into a pandas dataframe for further analysis. This analysis will contain quantitative statistics on the leaked database.\n"
   ]
  },
  {
   "cell_type": "code",
   "execution_count": 1,
   "metadata": {},
   "outputs": [
    {
     "data": {
      "text/html": [
       "<div>\n",
       "<style scoped>\n",
       "    .dataframe tbody tr th:only-of-type {\n",
       "        vertical-align: middle;\n",
       "    }\n",
       "\n",
       "    .dataframe tbody tr th {\n",
       "        vertical-align: top;\n",
       "    }\n",
       "\n",
       "    .dataframe thead th {\n",
       "        text-align: right;\n",
       "    }\n",
       "</style>\n",
       "<table border=\"1\" class=\"dataframe\">\n",
       "  <thead>\n",
       "    <tr style=\"text-align: right;\">\n",
       "      <th></th>\n",
       "      <th>id</th>\n",
       "      <th>processid</th>\n",
       "      <th>victim</th>\n",
       "      <th>port_service`_type</th>\n",
       "      <th>type</th>\n",
       "      <th>duration</th>\n",
       "      <th>time</th>\n",
       "      <th>stopped</th>\n",
       "      <th>client_attacker</th>\n",
       "      <th>server_used_in_th_attack</th>\n",
       "    </tr>\n",
       "  </thead>\n",
       "  <tbody>\n",
       "    <tr>\n",
       "      <th>0</th>\n",
       "      <td>1</td>\n",
       "      <td>5672</td>\n",
       "      <td>91.214.20.52</td>\n",
       "      <td>80</td>\n",
       "      <td>ESSYN</td>\n",
       "      <td>33</td>\n",
       "      <td>1358989954</td>\n",
       "      <td>1</td>\n",
       "      <td>1</td>\n",
       "      <td>94.102.49.76</td>\n",
       "    </tr>\n",
       "    <tr>\n",
       "      <th>1</th>\n",
       "      <td>2</td>\n",
       "      <td>29065</td>\n",
       "      <td>91.214.20.52</td>\n",
       "      <td>80</td>\n",
       "      <td>UDP</td>\n",
       "      <td>1783</td>\n",
       "      <td>1358990329</td>\n",
       "      <td>1</td>\n",
       "      <td>1</td>\n",
       "      <td>93.174.93.30</td>\n",
       "    </tr>\n",
       "    <tr>\n",
       "      <th>2</th>\n",
       "      <td>3</td>\n",
       "      <td>23005</td>\n",
       "      <td>78.31.8.124</td>\n",
       "      <td>80</td>\n",
       "      <td>ESSYN</td>\n",
       "      <td>393</td>\n",
       "      <td>1358991360</td>\n",
       "      <td>0</td>\n",
       "      <td>1</td>\n",
       "      <td>89.248.172.97</td>\n",
       "    </tr>\n",
       "    <tr>\n",
       "      <th>3</th>\n",
       "      <td>4</td>\n",
       "      <td>29411</td>\n",
       "      <td>199.204.44.188</td>\n",
       "      <td>80</td>\n",
       "      <td>ESSYN</td>\n",
       "      <td>60</td>\n",
       "      <td>1358995416</td>\n",
       "      <td>0</td>\n",
       "      <td>4</td>\n",
       "      <td>93.174.93.30</td>\n",
       "    </tr>\n",
       "    <tr>\n",
       "      <th>4</th>\n",
       "      <td>5</td>\n",
       "      <td>19298</td>\n",
       "      <td>http://chrome-mods.com</td>\n",
       "      <td>80</td>\n",
       "      <td>RUDY</td>\n",
       "      <td>50000</td>\n",
       "      <td>1358995471</td>\n",
       "      <td>1</td>\n",
       "      <td>3</td>\n",
       "      <td>72.9.144.80</td>\n",
       "    </tr>\n",
       "  </tbody>\n",
       "</table>\n",
       "</div>"
      ],
      "text/plain": [
       "   id processid                  victim  port_service`_type   type  duration  \\\n",
       "0   1      5672            91.214.20.52                  80  ESSYN        33   \n",
       "1   2     29065            91.214.20.52                  80    UDP      1783   \n",
       "2   3     23005             78.31.8.124                  80  ESSYN       393   \n",
       "3   4     29411          199.204.44.188                  80  ESSYN        60   \n",
       "4   5     19298  http://chrome-mods.com                  80   RUDY     50000   \n",
       "\n",
       "         time  stopped  client_attacker server_used_in_th_attack  \n",
       "0  1358989954        1                1             94.102.49.76  \n",
       "1  1358990329        1                1             93.174.93.30  \n",
       "2  1358991360        0                1            89.248.172.97  \n",
       "3  1358995416        0                4             93.174.93.30  \n",
       "4  1358995471        1                3              72.9.144.80  "
      ]
     },
     "execution_count": 1,
     "metadata": {},
     "output_type": "execute_result"
    }
   ],
   "source": [
    "import matplotlib.pyplot as plt\n",
    "import pandas as pd\n",
    "df_original = pd.read_csv('table_attack_twbooter.csv')\n",
    "df_original.head()"
   ]
  },
  {
   "cell_type": "markdown",
   "metadata": {},
   "source": [
    "Unfortunately the data in the dump is not consistent, some victim URL's contain ```'http://'``` , some contain ```https://```, some contain no prefix. Some victim domains start with www., some victim URL's contain paths, some IP-addresses use comma's, some use dots. As can be seen below:"
   ]
  },
  {
   "cell_type": "code",
   "execution_count": 2,
   "metadata": {},
   "outputs": [
    {
     "data": {
      "text/html": [
       "<div>\n",
       "<style scoped>\n",
       "    .dataframe tbody tr th:only-of-type {\n",
       "        vertical-align: middle;\n",
       "    }\n",
       "\n",
       "    .dataframe tbody tr th {\n",
       "        vertical-align: top;\n",
       "    }\n",
       "\n",
       "    .dataframe thead th {\n",
       "        text-align: right;\n",
       "    }\n",
       "</style>\n",
       "<table border=\"1\" class=\"dataframe\">\n",
       "  <thead>\n",
       "    <tr style=\"text-align: right;\">\n",
       "      <th></th>\n",
       "      <th>id</th>\n",
       "      <th>processid</th>\n",
       "      <th>victim</th>\n",
       "      <th>port_service`_type</th>\n",
       "      <th>type</th>\n",
       "      <th>duration</th>\n",
       "      <th>time</th>\n",
       "      <th>stopped</th>\n",
       "      <th>client_attacker</th>\n",
       "      <th>server_used_in_th_attack</th>\n",
       "    </tr>\n",
       "  </thead>\n",
       "  <tbody>\n",
       "    <tr>\n",
       "      <th>1911</th>\n",
       "      <td>1916</td>\n",
       "      <td>26905</td>\n",
       "      <td>http://www.leakforums.org/index.php</td>\n",
       "      <td>80</td>\n",
       "      <td>HTTPGET</td>\n",
       "      <td>3500</td>\n",
       "      <td>1359149778</td>\n",
       "      <td>1</td>\n",
       "      <td>126</td>\n",
       "      <td>67.222.156.241</td>\n",
       "    </tr>\n",
       "  </tbody>\n",
       "</table>\n",
       "</div>"
      ],
      "text/plain": [
       "        id processid                               victim  port_service`_type  \\\n",
       "1911  1916     26905  http://www.leakforums.org/index.php                  80   \n",
       "\n",
       "         type  duration        time  stopped  client_attacker  \\\n",
       "1911  HTTPGET      3500  1359149778        1              126   \n",
       "\n",
       "     server_used_in_th_attack  \n",
       "1911           67.222.156.241  "
      ]
     },
     "execution_count": 2,
     "metadata": {},
     "output_type": "execute_result"
    }
   ],
   "source": [
    "df_original.query('\"http://www.leakforums.org/index.php\" in victim')[:1]"
   ]
  },
  {
   "cell_type": "markdown",
   "metadata": {},
   "source": [
    "Some of the victims are names (which we suspect to be in-game names of some game)."
   ]
  },
  {
   "cell_type": "code",
   "execution_count": 3,
   "metadata": {},
   "outputs": [
    {
     "data": {
      "text/html": [
       "<div>\n",
       "<style scoped>\n",
       "    .dataframe tbody tr th:only-of-type {\n",
       "        vertical-align: middle;\n",
       "    }\n",
       "\n",
       "    .dataframe tbody tr th {\n",
       "        vertical-align: top;\n",
       "    }\n",
       "\n",
       "    .dataframe thead th {\n",
       "        text-align: right;\n",
       "    }\n",
       "</style>\n",
       "<table border=\"1\" class=\"dataframe\">\n",
       "  <thead>\n",
       "    <tr style=\"text-align: right;\">\n",
       "      <th></th>\n",
       "      <th>id</th>\n",
       "      <th>processid</th>\n",
       "      <th>victim</th>\n",
       "      <th>port_service`_type</th>\n",
       "      <th>type</th>\n",
       "      <th>duration</th>\n",
       "      <th>time</th>\n",
       "      <th>stopped</th>\n",
       "      <th>client_attacker</th>\n",
       "      <th>server_used_in_th_attack</th>\n",
       "    </tr>\n",
       "  </thead>\n",
       "  <tbody>\n",
       "    <tr>\n",
       "      <th>850</th>\n",
       "      <td>853</td>\n",
       "      <td>4045</td>\n",
       "      <td>xgoonx503</td>\n",
       "      <td>80</td>\n",
       "      <td>SCLOUD</td>\n",
       "      <td>15</td>\n",
       "      <td>1359084966</td>\n",
       "      <td>0</td>\n",
       "      <td>15</td>\n",
       "      <td>89.248.172.106</td>\n",
       "    </tr>\n",
       "  </tbody>\n",
       "</table>\n",
       "</div>"
      ],
      "text/plain": [
       "      id processid     victim  port_service`_type    type  duration  \\\n",
       "850  853      4045  xgoonx503                  80  SCLOUD        15   \n",
       "\n",
       "           time  stopped  client_attacker server_used_in_th_attack  \n",
       "850  1359084966        0               15           89.248.172.106  "
      ]
     },
     "execution_count": 3,
     "metadata": {},
     "output_type": "execute_result"
    }
   ],
   "source": [
    "df_original.query('\"xgoonx503\" in victim')[:1]"
   ]
  },
  {
   "cell_type": "markdown",
   "metadata": {},
   "source": [
    "Therefore we will normalize the victim column and add columns indicating whether the URL contained 'http' or 'https', for later analysis. "
   ]
  },
  {
   "cell_type": "code",
   "execution_count": 4,
   "metadata": {},
   "outputs": [],
   "source": [
    "df = df_original.assign(is_http=[True if \"http\" in x else False for x in df_original['victim']])\n",
    "df = df.assign(is_https=[True if \"https\" in x else False for x in df['victim']])\n",
    "df['victim'] = df['victim'].map(lambda x: x.replace(',', '.').replace('https://', '').replace('http://', '').replace('www.', '').split('/')[0])\n",
    "df['server_used_in_th_attack'] = df['server_used_in_th_attack'].map(lambda x: str(x).replace(',', '.').replace('https://', '').replace('http://', ''))"
   ]
  },
  {
   "cell_type": "markdown",
   "metadata": {},
   "source": [
    "The victim column contains both IP-addresses and domains, but also names (which we suspect to be in-game names). We can use a regular expression to add a column that indicates whether the victim is an IP-address or something else. This will come in useful later in the analysis."
   ]
  },
  {
   "cell_type": "code",
   "execution_count": 5,
   "metadata": {
    "scrolled": false
   },
   "outputs": [
    {
     "data": {
      "text/html": [
       "<div>\n",
       "<style scoped>\n",
       "    .dataframe tbody tr th:only-of-type {\n",
       "        vertical-align: middle;\n",
       "    }\n",
       "\n",
       "    .dataframe tbody tr th {\n",
       "        vertical-align: top;\n",
       "    }\n",
       "\n",
       "    .dataframe thead th {\n",
       "        text-align: right;\n",
       "    }\n",
       "</style>\n",
       "<table border=\"1\" class=\"dataframe\">\n",
       "  <thead>\n",
       "    <tr style=\"text-align: right;\">\n",
       "      <th></th>\n",
       "      <th>id</th>\n",
       "      <th>processid</th>\n",
       "      <th>victim</th>\n",
       "      <th>port_service`_type</th>\n",
       "      <th>type</th>\n",
       "      <th>duration</th>\n",
       "      <th>time</th>\n",
       "      <th>stopped</th>\n",
       "      <th>client_attacker</th>\n",
       "      <th>server_used_in_th_attack</th>\n",
       "      <th>is_http</th>\n",
       "      <th>is_https</th>\n",
       "      <th>is_ip</th>\n",
       "    </tr>\n",
       "  </thead>\n",
       "  <tbody>\n",
       "    <tr>\n",
       "      <th>0</th>\n",
       "      <td>1</td>\n",
       "      <td>5672</td>\n",
       "      <td>91.214.20.52</td>\n",
       "      <td>80</td>\n",
       "      <td>ESSYN</td>\n",
       "      <td>33</td>\n",
       "      <td>1358989954</td>\n",
       "      <td>1</td>\n",
       "      <td>1</td>\n",
       "      <td>94.102.49.76</td>\n",
       "      <td>False</td>\n",
       "      <td>False</td>\n",
       "      <td>True</td>\n",
       "    </tr>\n",
       "    <tr>\n",
       "      <th>1</th>\n",
       "      <td>2</td>\n",
       "      <td>29065</td>\n",
       "      <td>91.214.20.52</td>\n",
       "      <td>80</td>\n",
       "      <td>UDP</td>\n",
       "      <td>1783</td>\n",
       "      <td>1358990329</td>\n",
       "      <td>1</td>\n",
       "      <td>1</td>\n",
       "      <td>93.174.93.30</td>\n",
       "      <td>False</td>\n",
       "      <td>False</td>\n",
       "      <td>True</td>\n",
       "    </tr>\n",
       "    <tr>\n",
       "      <th>2</th>\n",
       "      <td>3</td>\n",
       "      <td>23005</td>\n",
       "      <td>78.31.8.124</td>\n",
       "      <td>80</td>\n",
       "      <td>ESSYN</td>\n",
       "      <td>393</td>\n",
       "      <td>1358991360</td>\n",
       "      <td>0</td>\n",
       "      <td>1</td>\n",
       "      <td>89.248.172.97</td>\n",
       "      <td>False</td>\n",
       "      <td>False</td>\n",
       "      <td>True</td>\n",
       "    </tr>\n",
       "    <tr>\n",
       "      <th>3</th>\n",
       "      <td>4</td>\n",
       "      <td>29411</td>\n",
       "      <td>199.204.44.188</td>\n",
       "      <td>80</td>\n",
       "      <td>ESSYN</td>\n",
       "      <td>60</td>\n",
       "      <td>1358995416</td>\n",
       "      <td>0</td>\n",
       "      <td>4</td>\n",
       "      <td>93.174.93.30</td>\n",
       "      <td>False</td>\n",
       "      <td>False</td>\n",
       "      <td>True</td>\n",
       "    </tr>\n",
       "    <tr>\n",
       "      <th>4</th>\n",
       "      <td>5</td>\n",
       "      <td>19298</td>\n",
       "      <td>chrome-mods.com</td>\n",
       "      <td>80</td>\n",
       "      <td>RUDY</td>\n",
       "      <td>50000</td>\n",
       "      <td>1358995471</td>\n",
       "      <td>1</td>\n",
       "      <td>3</td>\n",
       "      <td>72.9.144.80</td>\n",
       "      <td>True</td>\n",
       "      <td>False</td>\n",
       "      <td>False</td>\n",
       "    </tr>\n",
       "  </tbody>\n",
       "</table>\n",
       "</div>"
      ],
      "text/plain": [
       "   id processid           victim  port_service`_type   type  duration  \\\n",
       "0   1      5672     91.214.20.52                  80  ESSYN        33   \n",
       "1   2     29065     91.214.20.52                  80    UDP      1783   \n",
       "2   3     23005      78.31.8.124                  80  ESSYN       393   \n",
       "3   4     29411   199.204.44.188                  80  ESSYN        60   \n",
       "4   5     19298  chrome-mods.com                  80   RUDY     50000   \n",
       "\n",
       "         time  stopped  client_attacker server_used_in_th_attack  is_http  \\\n",
       "0  1358989954        1                1             94.102.49.76    False   \n",
       "1  1358990329        1                1             93.174.93.30    False   \n",
       "2  1358991360        0                1            89.248.172.97    False   \n",
       "3  1358995416        0                4             93.174.93.30    False   \n",
       "4  1358995471        1                3              72.9.144.80     True   \n",
       "\n",
       "   is_https  is_ip  \n",
       "0     False   True  \n",
       "1     False   True  \n",
       "2     False   True  \n",
       "3     False   True  \n",
       "4     False  False  "
      ]
     },
     "execution_count": 5,
     "metadata": {},
     "output_type": "execute_result"
    }
   ],
   "source": [
    "import re\n",
    "regex = re.compile('^(?:[0-9]{1,3}\\.){3}[0-9]{1,3}$')\n",
    "df = df.assign(is_ip=[regex.match(x) != None for x in df['victim']])\n",
    "df.head()"
   ]
  },
  {
   "cell_type": "markdown",
   "metadata": {},
   "source": [
    "Now that we have normalized the victim column, we can start with the analysis. \n",
    "### 1. The total number of attack records\n",
    "The database dump contains 48733 attack records"
   ]
  },
  {
   "cell_type": "code",
   "execution_count": 6,
   "metadata": {},
   "outputs": [
    {
     "name": "stdout",
     "output_type": "stream",
     "text": [
      "The database dump contains: 48773\n",
      "Out of which 41666 are attacks directly on IP addresses, and 7107 are attacks on other victims\n"
     ]
    }
   ],
   "source": [
    "print('The database dump contains: {}'.format(df_original.shape[0]))\n",
    "print('Out of which {} are attacks directly on IP addresses, and {} are attacks on other victims'.format(df.query('is_ip').shape[0], df.query('not is_ip').shape[0]))"
   ]
  },
  {
   "cell_type": "markdown",
   "metadata": {},
   "source": [
    "### 2. The number of unique users\n",
    "These records are created by 277 unique users. This does not imply that there are 277 users registered on TWBooter, but that there are 277 unique users that are part of this dump that conducted an attack. Thus there are likely more than 277 users registered."
   ]
  },
  {
   "cell_type": "code",
   "execution_count": 7,
   "metadata": {},
   "outputs": [
    {
     "data": {
      "text/plain": [
       "277"
      ]
     },
     "execution_count": 7,
     "metadata": {},
     "output_type": "execute_result"
    }
   ],
   "source": [
    "df.client_attacker.unique().shape[0]"
   ]
  },
  {
   "cell_type": "markdown",
   "metadata": {},
   "source": [
    "### 3. Top 10 victim IP Addresses\n",
    "Using our added column 'is_ip', which indicates if the victim is an IP Address or something else (e.g. a domainname or in-game name), we can find the most attacked IP-addresses in this dataset and the duration they have been under attack for."
   ]
  },
  {
   "cell_type": "code",
   "execution_count": 8,
   "metadata": {},
   "outputs": [
    {
     "data": {
      "text/html": [
       "<div>\n",
       "<style scoped>\n",
       "    .dataframe tbody tr th:only-of-type {\n",
       "        vertical-align: middle;\n",
       "    }\n",
       "\n",
       "    .dataframe tbody tr th {\n",
       "        vertical-align: top;\n",
       "    }\n",
       "\n",
       "    .dataframe thead th {\n",
       "        text-align: right;\n",
       "    }\n",
       "</style>\n",
       "<table border=\"1\" class=\"dataframe\">\n",
       "  <thead>\n",
       "    <tr style=\"text-align: right;\">\n",
       "      <th></th>\n",
       "      <th>amount of attacks</th>\n",
       "      <th>duration in seconds</th>\n",
       "      <th>duration in days</th>\n",
       "    </tr>\n",
       "    <tr>\n",
       "      <th>victim</th>\n",
       "      <th></th>\n",
       "      <th></th>\n",
       "      <th></th>\n",
       "    </tr>\n",
       "  </thead>\n",
       "  <tbody>\n",
       "    <tr>\n",
       "      <th>87.106.136.156</th>\n",
       "      <td>1162</td>\n",
       "      <td>97950</td>\n",
       "      <td>1.133681</td>\n",
       "    </tr>\n",
       "    <tr>\n",
       "      <th>212.7.214.197</th>\n",
       "      <td>799</td>\n",
       "      <td>47940</td>\n",
       "      <td>0.554861</td>\n",
       "    </tr>\n",
       "    <tr>\n",
       "      <th>72.9.144.6</th>\n",
       "      <td>304</td>\n",
       "      <td>1244766</td>\n",
       "      <td>14.407014</td>\n",
       "    </tr>\n",
       "    <tr>\n",
       "      <th>70.39.68.226</th>\n",
       "      <td>285</td>\n",
       "      <td>440391</td>\n",
       "      <td>5.097118</td>\n",
       "    </tr>\n",
       "    <tr>\n",
       "      <th>176.31.90.154</th>\n",
       "      <td>280</td>\n",
       "      <td>58400</td>\n",
       "      <td>0.675926</td>\n",
       "    </tr>\n",
       "    <tr>\n",
       "      <th>186.202.153.45</th>\n",
       "      <td>244</td>\n",
       "      <td>146400</td>\n",
       "      <td>1.694444</td>\n",
       "    </tr>\n",
       "    <tr>\n",
       "      <th>69.162.77.11</th>\n",
       "      <td>225</td>\n",
       "      <td>101340</td>\n",
       "      <td>1.172917</td>\n",
       "    </tr>\n",
       "    <tr>\n",
       "      <th>198.1.122.66</th>\n",
       "      <td>208</td>\n",
       "      <td>1059898</td>\n",
       "      <td>12.267338</td>\n",
       "    </tr>\n",
       "    <tr>\n",
       "      <th>100.42.216.59</th>\n",
       "      <td>189</td>\n",
       "      <td>93900</td>\n",
       "      <td>1.086806</td>\n",
       "    </tr>\n",
       "    <tr>\n",
       "      <th>189.38.59.130</th>\n",
       "      <td>176</td>\n",
       "      <td>237257</td>\n",
       "      <td>2.746030</td>\n",
       "    </tr>\n",
       "  </tbody>\n",
       "</table>\n",
       "</div>"
      ],
      "text/plain": [
       "                amount of attacks  duration in seconds  duration in days\n",
       "victim                                                                  \n",
       "87.106.136.156               1162                97950          1.133681\n",
       "212.7.214.197                 799                47940          0.554861\n",
       "72.9.144.6                    304              1244766         14.407014\n",
       "70.39.68.226                  285               440391          5.097118\n",
       "176.31.90.154                 280                58400          0.675926\n",
       "186.202.153.45                244               146400          1.694444\n",
       "69.162.77.11                  225               101340          1.172917\n",
       "198.1.122.66                  208              1059898         12.267338\n",
       "100.42.216.59                 189                93900          1.086806\n",
       "189.38.59.130                 176               237257          2.746030"
      ]
     },
     "execution_count": 8,
     "metadata": {},
     "output_type": "execute_result"
    }
   ],
   "source": [
    "top_10_attacked_ip = df.query('is_ip').groupby('victim') .agg({'id':'count', 'duration': 'sum'}).rename(columns={'id':'amount of attacks', 'duration': 'duration in seconds'})\n",
    "top_10_attacked_ip['duration in days'] = top_10_attacked_ip['duration in seconds'].apply(lambda x: x/(60*60*24))\n",
    "top_10_attacked_ip.sort_values('amount of attacks', ascending=False)[:10]"
   ]
  },
  {
   "cell_type": "markdown",
   "metadata": {},
   "source": [
    "However, these IP Addresses have the largest amount of attacks launched against them, this does not indicate how long these IP-addresses have been under attack. There are ip addresses that have been under attack for longer durations of time. Characterizing a top 10 of victims is thus hard to do. We would classify the following IP addresses as the top 10, due to the fact that these IP addresses were attacked for the longest duration of time and therefore used the most amount of resources."
   ]
  },
  {
   "cell_type": "code",
   "execution_count": 9,
   "metadata": {
    "scrolled": true
   },
   "outputs": [
    {
     "data": {
      "text/html": [
       "<div>\n",
       "<style scoped>\n",
       "    .dataframe tbody tr th:only-of-type {\n",
       "        vertical-align: middle;\n",
       "    }\n",
       "\n",
       "    .dataframe tbody tr th {\n",
       "        vertical-align: top;\n",
       "    }\n",
       "\n",
       "    .dataframe thead th {\n",
       "        text-align: right;\n",
       "    }\n",
       "</style>\n",
       "<table border=\"1\" class=\"dataframe\">\n",
       "  <thead>\n",
       "    <tr style=\"text-align: right;\">\n",
       "      <th></th>\n",
       "      <th>amount of attacks</th>\n",
       "      <th>duration in seconds</th>\n",
       "      <th>duration in days</th>\n",
       "    </tr>\n",
       "    <tr>\n",
       "      <th>victim</th>\n",
       "      <th></th>\n",
       "      <th></th>\n",
       "      <th></th>\n",
       "    </tr>\n",
       "  </thead>\n",
       "  <tbody>\n",
       "    <tr>\n",
       "      <th>204.27.58.194</th>\n",
       "      <td>9</td>\n",
       "      <td>2835460</td>\n",
       "      <td>32.817824</td>\n",
       "    </tr>\n",
       "    <tr>\n",
       "      <th>198.144.120.189</th>\n",
       "      <td>6</td>\n",
       "      <td>2500300</td>\n",
       "      <td>28.938657</td>\n",
       "    </tr>\n",
       "    <tr>\n",
       "      <th>174.120.6.116</th>\n",
       "      <td>7</td>\n",
       "      <td>2133556</td>\n",
       "      <td>24.693935</td>\n",
       "    </tr>\n",
       "    <tr>\n",
       "      <th>50.62.64.1</th>\n",
       "      <td>3</td>\n",
       "      <td>1500000</td>\n",
       "      <td>17.361111</td>\n",
       "    </tr>\n",
       "    <tr>\n",
       "      <th>72.9.144.6</th>\n",
       "      <td>304</td>\n",
       "      <td>1244766</td>\n",
       "      <td>14.407014</td>\n",
       "    </tr>\n",
       "    <tr>\n",
       "      <th>198.154.220.66</th>\n",
       "      <td>8</td>\n",
       "      <td>1223640</td>\n",
       "      <td>14.162500</td>\n",
       "    </tr>\n",
       "    <tr>\n",
       "      <th>198.1.122.66</th>\n",
       "      <td>208</td>\n",
       "      <td>1059898</td>\n",
       "      <td>12.267338</td>\n",
       "    </tr>\n",
       "    <tr>\n",
       "      <th>173.231.26.68</th>\n",
       "      <td>6</td>\n",
       "      <td>993107</td>\n",
       "      <td>11.494294</td>\n",
       "    </tr>\n",
       "    <tr>\n",
       "      <th>4.31.2.152</th>\n",
       "      <td>3</td>\n",
       "      <td>835431</td>\n",
       "      <td>9.669340</td>\n",
       "    </tr>\n",
       "    <tr>\n",
       "      <th>213.152.29.111</th>\n",
       "      <td>46</td>\n",
       "      <td>568090</td>\n",
       "      <td>6.575116</td>\n",
       "    </tr>\n",
       "  </tbody>\n",
       "</table>\n",
       "</div>"
      ],
      "text/plain": [
       "                 amount of attacks  duration in seconds  duration in days\n",
       "victim                                                                   \n",
       "204.27.58.194                    9              2835460         32.817824\n",
       "198.144.120.189                  6              2500300         28.938657\n",
       "174.120.6.116                    7              2133556         24.693935\n",
       "50.62.64.1                       3              1500000         17.361111\n",
       "72.9.144.6                     304              1244766         14.407014\n",
       "198.154.220.66                   8              1223640         14.162500\n",
       "198.1.122.66                   208              1059898         12.267338\n",
       "173.231.26.68                    6               993107         11.494294\n",
       "4.31.2.152                       3               835431          9.669340\n",
       "213.152.29.111                  46               568090          6.575116"
      ]
     },
     "execution_count": 9,
     "metadata": {},
     "output_type": "execute_result"
    }
   ],
   "source": [
    "top_10_attacked_ip.sort_values('duration in seconds', ascending=False)[:10]"
   ]
  },
  {
   "cell_type": "markdown",
   "metadata": {},
   "source": [
    "### 4. Top 10 victim domain names\n",
    "Using the above code we can also analyze the records that do not have an IP-address as the victim. The most amount of attacks have been launched against the following domains:"
   ]
  },
  {
   "cell_type": "code",
   "execution_count": 10,
   "metadata": {},
   "outputs": [
    {
     "data": {
      "text/html": [
       "<div>\n",
       "<style scoped>\n",
       "    .dataframe tbody tr th:only-of-type {\n",
       "        vertical-align: middle;\n",
       "    }\n",
       "\n",
       "    .dataframe tbody tr th {\n",
       "        vertical-align: top;\n",
       "    }\n",
       "\n",
       "    .dataframe thead th {\n",
       "        text-align: right;\n",
       "    }\n",
       "</style>\n",
       "<table border=\"1\" class=\"dataframe\">\n",
       "  <thead>\n",
       "    <tr style=\"text-align: right;\">\n",
       "      <th></th>\n",
       "      <th>amount of attacks</th>\n",
       "      <th>duration in seconds</th>\n",
       "      <th>duration in days</th>\n",
       "    </tr>\n",
       "    <tr>\n",
       "      <th>victim</th>\n",
       "      <th></th>\n",
       "      <th></th>\n",
       "      <th></th>\n",
       "    </tr>\n",
       "  </thead>\n",
       "  <tbody>\n",
       "    <tr>\n",
       "      <th>relog.co.il</th>\n",
       "      <td>638</td>\n",
       "      <td>600731</td>\n",
       "      <td>6.952905</td>\n",
       "    </tr>\n",
       "    <tr>\n",
       "      <th>rewards.yourpshome.net</th>\n",
       "      <td>635</td>\n",
       "      <td>38100</td>\n",
       "      <td>0.440972</td>\n",
       "    </tr>\n",
       "    <tr>\n",
       "      <th>pshomecentral.net</th>\n",
       "      <td>383</td>\n",
       "      <td>14880</td>\n",
       "      <td>0.172222</td>\n",
       "    </tr>\n",
       "    <tr>\n",
       "      <th>ajnabi.vchats.info</th>\n",
       "      <td>373</td>\n",
       "      <td>229596</td>\n",
       "      <td>2.657361</td>\n",
       "    </tr>\n",
       "    <tr>\n",
       "      <th>nordicmakten.com</th>\n",
       "      <td>189</td>\n",
       "      <td>109055</td>\n",
       "      <td>1.262211</td>\n",
       "    </tr>\n",
       "    <tr>\n",
       "      <th>ajnabi.pkfun.net</th>\n",
       "      <td>186</td>\n",
       "      <td>101308</td>\n",
       "      <td>1.172546</td>\n",
       "    </tr>\n",
       "    <tr>\n",
       "      <th>yourpshome.net</th>\n",
       "      <td>186</td>\n",
       "      <td>155175</td>\n",
       "      <td>1.796007</td>\n",
       "    </tr>\n",
       "    <tr>\n",
       "      <th>violvocal.com</th>\n",
       "      <td>110</td>\n",
       "      <td>392415</td>\n",
       "      <td>4.541840</td>\n",
       "    </tr>\n",
       "    <tr>\n",
       "      <th>nordicmafia.net</th>\n",
       "      <td>107</td>\n",
       "      <td>64065</td>\n",
       "      <td>0.741493</td>\n",
       "    </tr>\n",
       "    <tr>\n",
       "      <th>lapdonline.org</th>\n",
       "      <td>86</td>\n",
       "      <td>144474</td>\n",
       "      <td>1.672153</td>\n",
       "    </tr>\n",
       "  </tbody>\n",
       "</table>\n",
       "</div>"
      ],
      "text/plain": [
       "                        amount of attacks  duration in seconds  \\\n",
       "victim                                                           \n",
       "relog.co.il                           638               600731   \n",
       "rewards.yourpshome.net                635                38100   \n",
       "pshomecentral.net                     383                14880   \n",
       "ajnabi.vchats.info                    373               229596   \n",
       "nordicmakten.com                      189               109055   \n",
       "ajnabi.pkfun.net                      186               101308   \n",
       "yourpshome.net                        186               155175   \n",
       "violvocal.com                         110               392415   \n",
       "nordicmafia.net                       107                64065   \n",
       "lapdonline.org                         86               144474   \n",
       "\n",
       "                        duration in days  \n",
       "victim                                    \n",
       "relog.co.il                     6.952905  \n",
       "rewards.yourpshome.net          0.440972  \n",
       "pshomecentral.net               0.172222  \n",
       "ajnabi.vchats.info              2.657361  \n",
       "nordicmakten.com                1.262211  \n",
       "ajnabi.pkfun.net                1.172546  \n",
       "yourpshome.net                  1.796007  \n",
       "violvocal.com                   4.541840  \n",
       "nordicmafia.net                 0.741493  \n",
       "lapdonline.org                  1.672153  "
      ]
     },
     "execution_count": 10,
     "metadata": {},
     "output_type": "execute_result"
    }
   ],
   "source": [
    "top_10_attacked_domain = df.query('not is_ip').groupby('victim') .agg({'id':'count', 'duration': 'sum'}).rename(columns={'id':'amount of attacks', 'duration': 'duration in seconds'})\n",
    "top_10_attacked_domain['duration in days'] = top_10_attacked_domain['duration in seconds'].apply(lambda x: x/(60*60*24))\n",
    "top_10_attacked_domain.sort_values('amount of attacks', ascending=False)[:10]"
   ]
  },
  {
   "cell_type": "markdown",
   "metadata": {},
   "source": [
    "The victims that have been under attack for the longest amount of time are the following IP addresses. As we can see some of the IP addresses that have the most amount of attacks launched against them, also have been under attack for long durations. "
   ]
  },
  {
   "cell_type": "code",
   "execution_count": 11,
   "metadata": {},
   "outputs": [
    {
     "data": {
      "text/html": [
       "<div>\n",
       "<style scoped>\n",
       "    .dataframe tbody tr th:only-of-type {\n",
       "        vertical-align: middle;\n",
       "    }\n",
       "\n",
       "    .dataframe tbody tr th {\n",
       "        vertical-align: top;\n",
       "    }\n",
       "\n",
       "    .dataframe thead th {\n",
       "        text-align: right;\n",
       "    }\n",
       "</style>\n",
       "<table border=\"1\" class=\"dataframe\">\n",
       "  <thead>\n",
       "    <tr style=\"text-align: right;\">\n",
       "      <th></th>\n",
       "      <th>amount of attacks</th>\n",
       "      <th>duration in seconds</th>\n",
       "      <th>duration in days</th>\n",
       "    </tr>\n",
       "    <tr>\n",
       "      <th>victim</th>\n",
       "      <th></th>\n",
       "      <th></th>\n",
       "      <th></th>\n",
       "    </tr>\n",
       "  </thead>\n",
       "  <tbody>\n",
       "    <tr>\n",
       "      <th>chrome-mods.com</th>\n",
       "      <td>25</td>\n",
       "      <td>4432302</td>\n",
       "      <td>51.299792</td>\n",
       "    </tr>\n",
       "    <tr>\n",
       "      <th>buttonmashers.org</th>\n",
       "      <td>6</td>\n",
       "      <td>2625952</td>\n",
       "      <td>30.392963</td>\n",
       "    </tr>\n",
       "    <tr>\n",
       "      <th>theblazingtech.com</th>\n",
       "      <td>7</td>\n",
       "      <td>1376588</td>\n",
       "      <td>15.932731</td>\n",
       "    </tr>\n",
       "    <tr>\n",
       "      <th>relog.co.il</th>\n",
       "      <td>638</td>\n",
       "      <td>600731</td>\n",
       "      <td>6.952905</td>\n",
       "    </tr>\n",
       "    <tr>\n",
       "      <th>hf143.net</th>\n",
       "      <td>2</td>\n",
       "      <td>556954</td>\n",
       "      <td>6.446227</td>\n",
       "    </tr>\n",
       "    <tr>\n",
       "      <th>violvocal.com</th>\n",
       "      <td>110</td>\n",
       "      <td>392415</td>\n",
       "      <td>4.541840</td>\n",
       "    </tr>\n",
       "    <tr>\n",
       "      <th>adow.fr</th>\n",
       "      <td>33</td>\n",
       "      <td>237600</td>\n",
       "      <td>2.750000</td>\n",
       "    </tr>\n",
       "    <tr>\n",
       "      <th>ajnabi.vchats.info</th>\n",
       "      <td>373</td>\n",
       "      <td>229596</td>\n",
       "      <td>2.657361</td>\n",
       "    </tr>\n",
       "    <tr>\n",
       "      <th>ekstrabladet.dk</th>\n",
       "      <td>4</td>\n",
       "      <td>205881</td>\n",
       "      <td>2.382882</td>\n",
       "    </tr>\n",
       "    <tr>\n",
       "      <th>habpl.us</th>\n",
       "      <td>70</td>\n",
       "      <td>188382</td>\n",
       "      <td>2.180347</td>\n",
       "    </tr>\n",
       "  </tbody>\n",
       "</table>\n",
       "</div>"
      ],
      "text/plain": [
       "                    amount of attacks  duration in seconds  duration in days\n",
       "victim                                                                      \n",
       "chrome-mods.com                    25              4432302         51.299792\n",
       "buttonmashers.org                   6              2625952         30.392963\n",
       "theblazingtech.com                  7              1376588         15.932731\n",
       "relog.co.il                       638               600731          6.952905\n",
       "hf143.net                           2               556954          6.446227\n",
       "violvocal.com                     110               392415          4.541840\n",
       "adow.fr                            33               237600          2.750000\n",
       "ajnabi.vchats.info                373               229596          2.657361\n",
       "ekstrabladet.dk                     4               205881          2.382882\n",
       "habpl.us                           70               188382          2.180347"
      ]
     },
     "execution_count": 11,
     "metadata": {},
     "output_type": "execute_result"
    }
   ],
   "source": [
    "top_10_attacked_domain.sort_values('duration in seconds', ascending=False)[:10]"
   ]
  },
  {
   "cell_type": "markdown",
   "metadata": {},
   "source": [
    "### 5. The longest attack duration\n",
    "As we have seen above in 4 and 3, the longest combined attack duration has been against chrome-mods.com. The attack durations of individual records seem to be limited to 500.000 seconds (roughly 5 days and 19 hours) as can be seen here:"
   ]
  },
  {
   "cell_type": "code",
   "execution_count": 12,
   "metadata": {},
   "outputs": [
    {
     "data": {
      "text/html": [
       "<div>\n",
       "<style scoped>\n",
       "    .dataframe tbody tr th:only-of-type {\n",
       "        vertical-align: middle;\n",
       "    }\n",
       "\n",
       "    .dataframe tbody tr th {\n",
       "        vertical-align: top;\n",
       "    }\n",
       "\n",
       "    .dataframe thead th {\n",
       "        text-align: right;\n",
       "    }\n",
       "</style>\n",
       "<table border=\"1\" class=\"dataframe\">\n",
       "  <thead>\n",
       "    <tr style=\"text-align: right;\">\n",
       "      <th></th>\n",
       "      <th>id</th>\n",
       "      <th>processid</th>\n",
       "      <th>victim</th>\n",
       "      <th>port_service`_type</th>\n",
       "      <th>type</th>\n",
       "      <th>duration</th>\n",
       "      <th>time</th>\n",
       "      <th>stopped</th>\n",
       "      <th>client_attacker</th>\n",
       "      <th>server_used_in_th_attack</th>\n",
       "      <th>is_http</th>\n",
       "      <th>is_https</th>\n",
       "      <th>is_ip</th>\n",
       "    </tr>\n",
       "  </thead>\n",
       "  <tbody>\n",
       "    <tr>\n",
       "      <th>1860</th>\n",
       "      <td>1865</td>\n",
       "      <td>9142</td>\n",
       "      <td>204.27.58.194</td>\n",
       "      <td>80</td>\n",
       "      <td>ESSYN</td>\n",
       "      <td>500000</td>\n",
       "      <td>1359147910</td>\n",
       "      <td>1</td>\n",
       "      <td>3</td>\n",
       "      <td>89.248.172.96</td>\n",
       "      <td>False</td>\n",
       "      <td>False</td>\n",
       "      <td>True</td>\n",
       "    </tr>\n",
       "    <tr>\n",
       "      <th>1865</th>\n",
       "      <td>1870</td>\n",
       "      <td>24163</td>\n",
       "      <td>204.27.58.194</td>\n",
       "      <td>80</td>\n",
       "      <td>ARME</td>\n",
       "      <td>500000</td>\n",
       "      <td>1359147943</td>\n",
       "      <td>1</td>\n",
       "      <td>3</td>\n",
       "      <td>89.248.172.96</td>\n",
       "      <td>True</td>\n",
       "      <td>False</td>\n",
       "      <td>True</td>\n",
       "    </tr>\n",
       "    <tr>\n",
       "      <th>19482</th>\n",
       "      <td>19525</td>\n",
       "      <td>6410</td>\n",
       "      <td>chrome-mods.com</td>\n",
       "      <td>80</td>\n",
       "      <td>ARME</td>\n",
       "      <td>500000</td>\n",
       "      <td>1360759739</td>\n",
       "      <td>1</td>\n",
       "      <td>3</td>\n",
       "      <td>89.248.160.146</td>\n",
       "      <td>True</td>\n",
       "      <td>False</td>\n",
       "      <td>False</td>\n",
       "    </tr>\n",
       "    <tr>\n",
       "      <th>1858</th>\n",
       "      <td>1863</td>\n",
       "      <td>9131</td>\n",
       "      <td>buttonmashers.org</td>\n",
       "      <td>80</td>\n",
       "      <td>ESSYN</td>\n",
       "      <td>500000</td>\n",
       "      <td>1359147858</td>\n",
       "      <td>1</td>\n",
       "      <td>3</td>\n",
       "      <td>89.248.172.96</td>\n",
       "      <td>False</td>\n",
       "      <td>False</td>\n",
       "      <td>False</td>\n",
       "    </tr>\n",
       "    <tr>\n",
       "      <th>19481</th>\n",
       "      <td>19524</td>\n",
       "      <td>6406</td>\n",
       "      <td>chrome-mods.com</td>\n",
       "      <td>80</td>\n",
       "      <td>ARME</td>\n",
       "      <td>500000</td>\n",
       "      <td>1360759739</td>\n",
       "      <td>1</td>\n",
       "      <td>3</td>\n",
       "      <td>89.248.160.146</td>\n",
       "      <td>True</td>\n",
       "      <td>False</td>\n",
       "      <td>False</td>\n",
       "    </tr>\n",
       "    <tr>\n",
       "      <th>1861</th>\n",
       "      <td>1866</td>\n",
       "      <td>9151</td>\n",
       "      <td>204.27.58.194</td>\n",
       "      <td>80</td>\n",
       "      <td>RUDY</td>\n",
       "      <td>500000</td>\n",
       "      <td>1359147917</td>\n",
       "      <td>1</td>\n",
       "      <td>3</td>\n",
       "      <td>89.248.172.96</td>\n",
       "      <td>True</td>\n",
       "      <td>False</td>\n",
       "      <td>True</td>\n",
       "    </tr>\n",
       "    <tr>\n",
       "      <th>19480</th>\n",
       "      <td>19523</td>\n",
       "      <td>6402</td>\n",
       "      <td>chrome-mods.com</td>\n",
       "      <td>80</td>\n",
       "      <td>RUDY</td>\n",
       "      <td>500000</td>\n",
       "      <td>1360759728</td>\n",
       "      <td>1</td>\n",
       "      <td>3</td>\n",
       "      <td>89.248.160.146</td>\n",
       "      <td>True</td>\n",
       "      <td>False</td>\n",
       "      <td>False</td>\n",
       "    </tr>\n",
       "    <tr>\n",
       "      <th>1863</th>\n",
       "      <td>1868</td>\n",
       "      <td>14155</td>\n",
       "      <td>204.27.58.194</td>\n",
       "      <td>80</td>\n",
       "      <td>HTTPHEAD</td>\n",
       "      <td>500000</td>\n",
       "      <td>1359147935</td>\n",
       "      <td>1</td>\n",
       "      <td>3</td>\n",
       "      <td>89.248.172.96</td>\n",
       "      <td>True</td>\n",
       "      <td>False</td>\n",
       "      <td>True</td>\n",
       "    </tr>\n",
       "    <tr>\n",
       "      <th>1864</th>\n",
       "      <td>1869</td>\n",
       "      <td>19159</td>\n",
       "      <td>204.27.58.194</td>\n",
       "      <td>80</td>\n",
       "      <td>HTTPGET</td>\n",
       "      <td>500000</td>\n",
       "      <td>1359147939</td>\n",
       "      <td>1</td>\n",
       "      <td>3</td>\n",
       "      <td>89.248.172.96</td>\n",
       "      <td>True</td>\n",
       "      <td>False</td>\n",
       "      <td>True</td>\n",
       "    </tr>\n",
       "    <tr>\n",
       "      <th>1630</th>\n",
       "      <td>1634</td>\n",
       "      <td>21149</td>\n",
       "      <td>chrome-mods.com</td>\n",
       "      <td>80</td>\n",
       "      <td>RUDY</td>\n",
       "      <td>500000</td>\n",
       "      <td>1359139736</td>\n",
       "      <td>1</td>\n",
       "      <td>3</td>\n",
       "      <td>89.248.172.96</td>\n",
       "      <td>True</td>\n",
       "      <td>False</td>\n",
       "      <td>False</td>\n",
       "    </tr>\n",
       "  </tbody>\n",
       "</table>\n",
       "</div>"
      ],
      "text/plain": [
       "          id processid             victim  port_service`_type      type  \\\n",
       "1860    1865      9142      204.27.58.194                  80     ESSYN   \n",
       "1865    1870     24163      204.27.58.194                  80      ARME   \n",
       "19482  19525      6410    chrome-mods.com                  80      ARME   \n",
       "1858    1863      9131  buttonmashers.org                  80     ESSYN   \n",
       "19481  19524      6406    chrome-mods.com                  80      ARME   \n",
       "1861    1866      9151      204.27.58.194                  80      RUDY   \n",
       "19480  19523      6402    chrome-mods.com                  80      RUDY   \n",
       "1863    1868     14155      204.27.58.194                  80  HTTPHEAD   \n",
       "1864    1869     19159      204.27.58.194                  80   HTTPGET   \n",
       "1630    1634     21149    chrome-mods.com                  80      RUDY   \n",
       "\n",
       "       duration        time  stopped  client_attacker  \\\n",
       "1860     500000  1359147910        1                3   \n",
       "1865     500000  1359147943        1                3   \n",
       "19482    500000  1360759739        1                3   \n",
       "1858     500000  1359147858        1                3   \n",
       "19481    500000  1360759739        1                3   \n",
       "1861     500000  1359147917        1                3   \n",
       "19480    500000  1360759728        1                3   \n",
       "1863     500000  1359147935        1                3   \n",
       "1864     500000  1359147939        1                3   \n",
       "1630     500000  1359139736        1                3   \n",
       "\n",
       "      server_used_in_th_attack  is_http  is_https  is_ip  \n",
       "1860             89.248.172.96    False     False   True  \n",
       "1865             89.248.172.96     True     False   True  \n",
       "19482           89.248.160.146     True     False  False  \n",
       "1858             89.248.172.96    False     False  False  \n",
       "19481           89.248.160.146     True     False  False  \n",
       "1861             89.248.172.96     True     False   True  \n",
       "19480           89.248.160.146     True     False  False  \n",
       "1863             89.248.172.96     True     False   True  \n",
       "1864             89.248.172.96     True     False   True  \n",
       "1630             89.248.172.96     True     False  False  "
      ]
     },
     "execution_count": 12,
     "metadata": {},
     "output_type": "execute_result"
    }
   ],
   "source": [
    "df.sort_values('duration', ascending=False)[:10]"
   ]
  },
  {
   "cell_type": "code",
   "execution_count": 13,
   "metadata": {
    "scrolled": true
   },
   "outputs": [
    {
     "name": "stdout",
     "output_type": "stream",
     "text": [
      "There have been 35 such attacks that lasted 500.000 seconds\n"
     ]
    }
   ],
   "source": [
    "print('There have been {} such attacks that lasted 500.000 seconds'.format(df.query('duration == 500000').shape[0]))"
   ]
  },
  {
   "cell_type": "code",
   "execution_count": 14,
   "metadata": {},
   "outputs": [
    {
     "data": {
      "text/plain": [
       "101221732"
      ]
     },
     "execution_count": 14,
     "metadata": {},
     "output_type": "execute_result"
    }
   ],
   "source": [
    "df['duration'].sum()"
   ]
  },
  {
   "cell_type": "markdown",
   "metadata": {},
   "source": [
    "The total attack length of all attack records in the dump is 101.221.732 seconds, which is 3.2 years worth of attacks."
   ]
  },
  {
   "cell_type": "markdown",
   "metadata": {},
   "source": [
    "### 6. Top 3 attack types\n",
    "In 5 we have seen that the longest duration attacks are conducted by many different DDoS attack types. We wondered what the most often used attack is, and the total attack duration the attack has been used."
   ]
  },
  {
   "cell_type": "code",
   "execution_count": 15,
   "metadata": {},
   "outputs": [
    {
     "data": {
      "text/html": [
       "<div>\n",
       "<style scoped>\n",
       "    .dataframe tbody tr th:only-of-type {\n",
       "        vertical-align: middle;\n",
       "    }\n",
       "\n",
       "    .dataframe tbody tr th {\n",
       "        vertical-align: top;\n",
       "    }\n",
       "\n",
       "    .dataframe thead th {\n",
       "        text-align: right;\n",
       "    }\n",
       "</style>\n",
       "<table border=\"1\" class=\"dataframe\">\n",
       "  <thead>\n",
       "    <tr style=\"text-align: right;\">\n",
       "      <th></th>\n",
       "      <th>amount of attacks</th>\n",
       "      <th>duration in seconds</th>\n",
       "      <th>duration in days</th>\n",
       "    </tr>\n",
       "    <tr>\n",
       "      <th>type</th>\n",
       "      <th></th>\n",
       "      <th></th>\n",
       "      <th></th>\n",
       "    </tr>\n",
       "  </thead>\n",
       "  <tbody>\n",
       "    <tr>\n",
       "      <th>ESSYN</th>\n",
       "      <td>19618</td>\n",
       "      <td>42763654</td>\n",
       "      <td>494.949699</td>\n",
       "    </tr>\n",
       "    <tr>\n",
       "      <th>UDP</th>\n",
       "      <td>10505</td>\n",
       "      <td>13964815</td>\n",
       "      <td>161.629803</td>\n",
       "    </tr>\n",
       "    <tr>\n",
       "      <th>RUDY</th>\n",
       "      <td>5808</td>\n",
       "      <td>13724668</td>\n",
       "      <td>158.850324</td>\n",
       "    </tr>\n",
       "  </tbody>\n",
       "</table>\n",
       "</div>"
      ],
      "text/plain": [
       "       amount of attacks  duration in seconds  duration in days\n",
       "type                                                           \n",
       "ESSYN              19618             42763654        494.949699\n",
       "UDP                10505             13964815        161.629803\n",
       "RUDY                5808             13724668        158.850324"
      ]
     },
     "execution_count": 15,
     "metadata": {},
     "output_type": "execute_result"
    }
   ],
   "source": [
    "top_10_attacked_domain = df.groupby('type').agg({'id':'count', 'duration': 'sum'}).rename(columns={'id':'amount of attacks', 'duration': 'duration in seconds'})\n",
    "top_10_attacked_domain['duration in days'] = top_10_attacked_domain['duration in seconds'].apply(lambda x: x/(60*60*24))\n",
    "top_10_attacked_domain.sort_values('amount of attacks', ascending=False)[:3]"
   ]
  },
  {
   "cell_type": "code",
   "execution_count": 16,
   "metadata": {},
   "outputs": [
    {
     "data": {
      "text/plain": [
       "<matplotlib.axes._subplots.AxesSubplot at 0x1f60915af60>"
      ]
     },
     "execution_count": 16,
     "metadata": {},
     "output_type": "execute_result"
    },
    {
     "data": {
      "image/png": "[encoded data removed]",
      "text/plain": [
       "<Figure size 504x504 with 1 Axes>"
      ]
     },
     "metadata": {},
     "output_type": "display_data"
    }
   ],
   "source": [
    "top_10_attacked_domain['amount of attacks'].plot(kind='pie',ylabel='',figsize=(7,7), colors=plt.cm.tab20.colors)"
   ]
  },
  {
   "cell_type": "markdown",
   "metadata": {},
   "source": [
    "#### ESSYN\n",
    "ESSYN is the most frequently used atttack type. An ESSYN flood attack, also known as an XSYN flood, is a variation of the often used SYN flood. In a SYN flood an attacker sends a large amount of TCP SYN packets to a target. Each of these SYN packets causes the server to open a network connection for a specific client. The server acknowledges this by sending an ACK packet back to the client, it then waits for the client to also acknowledge this by sending an ACK packet. This however is never done by the client, causing a large amount of half-open connections, which consume resources. If too many of the server's resources are exhausted, the server will no longer respond to legitimate requests: a successful DDoS attack. \n",
    "\n",
    "(Stateful) firewalls and other security systems have started to recognize and succesfully prevent DDoS attacks using SYN floods. That is why a variation of the SYN flood has been created: ESSYN or XSYN floods. The attack is conducted using a large amount of IP addresses, which each create a connection. Each of these IP addresses adds a record in the firewall state table. At one point the firewall state table is full and will no longer accept any additional inbound connections, once again denying service to legitimate users: a successful DDoS attack.\n",
    "\n",
    "We can actually see that the most amount of unique server addresses have been used for ESSYN attacks:"
   ]
  },
  {
   "cell_type": "code",
   "execution_count": 17,
   "metadata": {},
   "outputs": [
    {
     "data": {
      "text/plain": [
       "type\n",
       "ARME           14\n",
       "ESSYN        1189\n",
       "HTTPGET        21\n",
       "HTTPHEAD       19\n",
       "HTTPPOST       13\n",
       "LAG           242\n",
       "RUDY           26\n",
       "SCLOUD        175\n",
       "SLOWLORIS      20\n",
       "SOURCE         11\n",
       "TCPAMP        681\n",
       "UDP          1000\n",
       "Name: server_used_in_th_attack, dtype: int64"
      ]
     },
     "execution_count": 17,
     "metadata": {},
     "output_type": "execute_result"
    }
   ],
   "source": [
    "df.groupby('type').server_used_in_th_attack.unique().apply(len)"
   ]
  },
  {
   "cell_type": "markdown",
   "metadata": {},
   "source": [
    "#### UDP\n",
    "After ESSYN Floods, the most often occuring attack type is the UDP flood. UDP floods are similar to SYN floods in the sense that a large amount of UDP packets are sent by a botnet to one target. These UDP packets contain a port on the server, for which the packet was intended. The server needs to check if a specific application is listening on that port. If no application is listening, the server responds with a packet to the client. By sending UDP packets with many different ports, the server has to process many different ports and has to respond to each packet, consuming a large amount of resources. Once all resources are exhausted, the server cannot accept any legitimate connections: a successful DDoS Attack. In the table above we can see that a large amount of different IP addresses are used by the UDP attack.\n",
    "\n",
    "#### RUDY\n",
    "RUDY, short for ```R-U-Dead-Yet?``` is an attack tool that makes use of a so-called <i>slow attack</i>. This means that the attack does not try to flood the target with many packets, but attempts to open a few connections to the target and leave those connections open for a long amount of time. RUDY does this by using forms on the website. RUDY creates a form submission that says a large amount of content is following (HTTP Post request with long 'content-length'). RUDY then sends the content, one byte at a time with a large amount of time inbetween (typically 10 seconds). The server does not close the connection since the server still expects content (due to the large content-length set in the header). This results in a large amount of threads that have data to process, eventually using up all of the resources of the website, causing it to crash."
   ]
  },
  {
   "cell_type": "markdown",
   "metadata": {},
   "source": [
    "<i>Information about the UDP flood and ESSYN flood types has been sourced from the Multi-State Information Sharing and Analysis Center's (MS-ISAC) Guide to DDoS attacks. This guide was created in November 2017 and was retrieved October 16, 2020 from https://www.cisecurity.org/wp-content/uploads/2017/03/Guide-to-DDoS-Attacks-November-2017.pdf</i>\n",
    "\n",
    "\n",
    "<i>Information about RUDY has been sourced from the imperva Learning Center in the article 'R.U.D.Y. (R-U-Dead-Yet?)' and was retrieved October 16, 2020 from https://www.imperva.com/learn/ddos/rudy-r-u-dead-yet/</i>"
   ]
  },
  {
   "cell_type": "markdown",
   "metadata": {},
   "source": [
    "### 7. Owner ID that conducted most attacks\n",
    "The dataset contains an id that identifies each of the users that started an attack. The most amount of attacks are conducted by the following three user id's: 272, 197 and 111, with respectively 2307 attacks, 2020 attacks and 1965 attacks."
   ]
  },
  {
   "cell_type": "code",
   "execution_count": 18,
   "metadata": {
    "scrolled": false
   },
   "outputs": [
    {
     "data": {
      "text/plain": [
       "client_attacker\n",
       "272    2307\n",
       "197    2028\n",
       "111    1965\n",
       "Name: id, dtype: int64"
      ]
     },
     "execution_count": 18,
     "metadata": {},
     "output_type": "execute_result"
    }
   ],
   "source": [
    "df.groupby('client_attacker').count()[\"id\"].sort_values(ascending=False)[:3]"
   ]
  },
  {
   "cell_type": "markdown",
   "metadata": {},
   "source": [
    "### 8. Attacks on 'krebsonsecurity.com'\n",
    "The blog on which the leaked database is uploaded is called KrebsOnSecurity, a security news and investigation site. The dataset also contains a few records which point to an attack on KrebsOnSecurity. In total there are 15 attacks on KrebsOnSecurity in the attack records."
   ]
  },
  {
   "cell_type": "code",
   "execution_count": 19,
   "metadata": {
    "scrolled": false
   },
   "outputs": [
    {
     "data": {
      "text/plain": [
       "15"
      ]
     },
     "execution_count": 19,
     "metadata": {},
     "output_type": "execute_result"
    }
   ],
   "source": [
    "df.query('\"krebsonsecurity.com\" in victim').shape[0]"
   ]
  },
  {
   "cell_type": "markdown",
   "metadata": {},
   "source": [
    "These 15 attacks had a combined duration of 108000 seconds, which is 1,25 days"
   ]
  },
  {
   "cell_type": "code",
   "execution_count": 20,
   "metadata": {},
   "outputs": [
    {
     "data": {
      "text/plain": [
       "108000"
      ]
     },
     "execution_count": 20,
     "metadata": {},
     "output_type": "execute_result"
    }
   ],
   "source": [
    "df.query('\"krebsonsecurity.com\" in victim')[\"duration\"].sum()"
   ]
  },
  {
   "cell_type": "markdown",
   "metadata": {},
   "source": [
    "### 9. Attacker\n",
    "We wondered if the people that had conducted the most amount of attacks, have mainly targeted the same victims or different victims. In order to quantify this, we look at the ratio of unique victims to total amount of attacks, per attacker. A high ratio (close to 1) indicates that the attacks of the attacker were mainly conducted on different victims. A low ratio (close to 0) indicates that the attacker has mainly targeted the same victim in multiple attacks. This is seen intuitively as follows:\n",
    "\n",
    "An attacker conducts 100 attacks on 1 victim. The ratio is $1/100 = 0,01$.<br>An attacker conducts 100 attacks on 2 different victims. The ratio is $2/100 = 0,02$.<br>An attacker conducts 100 attacks on 100 different victims. The ratio is $100/100 = 1$.\n"
   ]
  },
  {
   "cell_type": "code",
   "execution_count": 21,
   "metadata": {},
   "outputs": [
    {
     "data": {
      "text/html": [
       "<div>\n",
       "<style scoped>\n",
       "    .dataframe tbody tr th:only-of-type {\n",
       "        vertical-align: middle;\n",
       "    }\n",
       "\n",
       "    .dataframe tbody tr th {\n",
       "        vertical-align: top;\n",
       "    }\n",
       "\n",
       "    .dataframe thead th {\n",
       "        text-align: right;\n",
       "    }\n",
       "</style>\n",
       "<table border=\"1\" class=\"dataframe\">\n",
       "  <thead>\n",
       "    <tr style=\"text-align: right;\">\n",
       "      <th></th>\n",
       "      <th>victim</th>\n",
       "      <th>amount_of_attacks</th>\n",
       "      <th>amount_of_unique_victims</th>\n",
       "      <th>ratio</th>\n",
       "    </tr>\n",
       "    <tr>\n",
       "      <th>client_attacker</th>\n",
       "      <th></th>\n",
       "      <th></th>\n",
       "      <th></th>\n",
       "      <th></th>\n",
       "    </tr>\n",
       "  </thead>\n",
       "  <tbody>\n",
       "    <tr>\n",
       "      <th>272</th>\n",
       "      <td>[yourpshome.net, yourpshome.net, yourpshome.ne...</td>\n",
       "      <td>2307</td>\n",
       "      <td>7</td>\n",
       "      <td>0.003034</td>\n",
       "    </tr>\n",
       "    <tr>\n",
       "      <th>299</th>\n",
       "      <td>[212.7.214.197, 212.7.214.197, 212.7.214.197, ...</td>\n",
       "      <td>198</td>\n",
       "      <td>3</td>\n",
       "      <td>0.015152</td>\n",
       "    </tr>\n",
       "    <tr>\n",
       "      <th>297</th>\n",
       "      <td>[166.78.109.77, 166.78.109.77, 166.78.109.77, ...</td>\n",
       "      <td>214</td>\n",
       "      <td>5</td>\n",
       "      <td>0.023364</td>\n",
       "    </tr>\n",
       "    <tr>\n",
       "      <th>298</th>\n",
       "      <td>[166.78.109.77, 166.78.109.77, 166.78.109.77, ...</td>\n",
       "      <td>213</td>\n",
       "      <td>5</td>\n",
       "      <td>0.023474</td>\n",
       "    </tr>\n",
       "    <tr>\n",
       "      <th>36</th>\n",
       "      <td>[186.202.153.45, 186.202.153.45, 186.202.153.4...</td>\n",
       "      <td>418</td>\n",
       "      <td>10</td>\n",
       "      <td>0.023923</td>\n",
       "    </tr>\n",
       "    <tr>\n",
       "      <th>...</th>\n",
       "      <td>...</td>\n",
       "      <td>...</td>\n",
       "      <td>...</td>\n",
       "      <td>...</td>\n",
       "    </tr>\n",
       "    <tr>\n",
       "      <th>170</th>\n",
       "      <td>[81.141.239.180]</td>\n",
       "      <td>1</td>\n",
       "      <td>1</td>\n",
       "      <td>1.000000</td>\n",
       "    </tr>\n",
       "    <tr>\n",
       "      <th>270</th>\n",
       "      <td>[174.138.175.30]</td>\n",
       "      <td>1</td>\n",
       "      <td>1</td>\n",
       "      <td>1.000000</td>\n",
       "    </tr>\n",
       "    <tr>\n",
       "      <th>84</th>\n",
       "      <td>[68.46.11.11, 174.59.10.96]</td>\n",
       "      <td>2</td>\n",
       "      <td>2</td>\n",
       "      <td>1.000000</td>\n",
       "    </tr>\n",
       "    <tr>\n",
       "      <th>182</th>\n",
       "      <td>[192.119.153.221, 101.166.36.98, 203.170.84.193]</td>\n",
       "      <td>3</td>\n",
       "      <td>3</td>\n",
       "      <td>1.000000</td>\n",
       "    </tr>\n",
       "    <tr>\n",
       "      <th>59</th>\n",
       "      <td>[108.162.198.84, 208.64.126.21]</td>\n",
       "      <td>2</td>\n",
       "      <td>2</td>\n",
       "      <td>1.000000</td>\n",
       "    </tr>\n",
       "  </tbody>\n",
       "</table>\n",
       "<p>277 rows × 4 columns</p>\n",
       "</div>"
      ],
      "text/plain": [
       "                                                            victim  \\\n",
       "client_attacker                                                      \n",
       "272              [yourpshome.net, yourpshome.net, yourpshome.ne...   \n",
       "299              [212.7.214.197, 212.7.214.197, 212.7.214.197, ...   \n",
       "297              [166.78.109.77, 166.78.109.77, 166.78.109.77, ...   \n",
       "298              [166.78.109.77, 166.78.109.77, 166.78.109.77, ...   \n",
       "36               [186.202.153.45, 186.202.153.45, 186.202.153.4...   \n",
       "...                                                            ...   \n",
       "170                                               [81.141.239.180]   \n",
       "270                                               [174.138.175.30]   \n",
       "84                                     [68.46.11.11, 174.59.10.96]   \n",
       "182               [192.119.153.221, 101.166.36.98, 203.170.84.193]   \n",
       "59                                 [108.162.198.84, 208.64.126.21]   \n",
       "\n",
       "                 amount_of_attacks  amount_of_unique_victims     ratio  \n",
       "client_attacker                                                         \n",
       "272                           2307                         7  0.003034  \n",
       "299                            198                         3  0.015152  \n",
       "297                            214                         5  0.023364  \n",
       "298                            213                         5  0.023474  \n",
       "36                             418                        10  0.023923  \n",
       "...                            ...                       ...       ...  \n",
       "170                              1                         1  1.000000  \n",
       "270                              1                         1  1.000000  \n",
       "84                               2                         2  1.000000  \n",
       "182                              3                         3  1.000000  \n",
       "59                               2                         2  1.000000  \n",
       "\n",
       "[277 rows x 4 columns]"
      ]
     },
     "execution_count": 21,
     "metadata": {},
     "output_type": "execute_result"
    },
    {
     "data": {
      "image/png": "[encoded data removed]",
      "text/plain": [
       "<Figure size 1080x360 with 1 Axes>"
      ]
     },
     "metadata": {
      "needs_background": "light"
     },
     "output_type": "display_data"
    }
   ],
   "source": [
    "df_grouped = df.groupby('client_attacker').victim.apply(list).to_frame()\n",
    "df_grouped = df_grouped.assign(**{\n",
    "    'amount_of_attacks': [len(x) for x in df_grouped['victim']], \n",
    "    'amount_of_unique_victims': [len(list(dict.fromkeys(x))) for x in df_grouped['victim']]\n",
    "    })\n",
    "df_grouped['ratio'] = df_grouped.apply(lambda row: row.amount_of_unique_victims/row.amount_of_attacks, axis=1)\n",
    "\n",
    "\n",
    "df_grouped.plot.scatter(x=\"amount_of_attacks\", y=\"ratio\", figsize=(15,5))\n",
    "df_grouped.sort_values('ratio', ascending=True)"
   ]
  },
  {
   "cell_type": "markdown",
   "metadata": {},
   "source": [
    "As we can see in the scatter plot above, the more frequent attackers have a low ratio, below 0.5, which indicates that they mainly attack the same victims. When the amount of attacks decreases, roughly below the 300 attacks, there appear to be more attackers that attack relatively more different victims."
   ]
  },
  {
   "cell_type": "markdown",
   "metadata": {},
   "source": [
    "### 10. Amount of attacks started per weekday\n",
    "We wondered on which day of the week most of the attacks were launched. It appears that more attacks are launched in the weekend than during the week, with most of the attacks launched on Saturday."
   ]
  },
  {
   "cell_type": "code",
   "execution_count": 22,
   "metadata": {},
   "outputs": [
    {
     "data": {
      "image/png": "[encoded data removed]",
      "text/plain": [
       "<Figure size 432x288 with 1 Axes>"
      ]
     },
     "metadata": {
      "needs_background": "light"
     },
     "output_type": "display_data"
    }
   ],
   "source": [
    "import calendar\n",
    "day_df = pd.to_datetime(df.time, unit='s').dt.dayofweek.value_counts().sort_index().to_frame()\n",
    "day_df.index = list(calendar.day_name)\n",
    "plt = day_df.plot(kind='bar',legend=False, title=\"Amount of attacks started per weekday\",ylabel=\"Amount of attacks\")"
   ]
  },
  {
   "cell_type": "markdown",
   "metadata": {},
   "source": [
    "## Conclusion\n",
    "The analysis yielded the following insights into the service offered by TWBooter. We found out that 277 users are responsible for 48773 attacks, which is about $48773/277=176$ attacks per user, which we found to be quite a lot. Customers of TWBooter targeted more IP addresses than domains. This could be because more persons have been attacked than servers. A person's residential network connection usually does not have a domain pointed to it, whereas a server is more likely to have a domainname point to it. A reason why there are domain names in the dataset could be that inexperienced people were unable to find out the IP address of a website and have chosen the easier way of just using the domain name as a target. Also, the majority of types involved in the attacks were using ESSYN, UDP and RUDY. ESSYN and UDP attacks required many different source IP addresses, whereas RUDY attacks used a select few servers in the attack. In overall, the customers that are using the booter for a large amount of attacks, tend to target the same victim. The most devastating attacks can be expected to be those that denied the service of a website or an individual for almost 6 days (500.000 seconds), at a time. The loss over those 6 days and the cost of getting the service up again will probably be severe.\n",
    "\n",
    "\n",
    "TWBooter appears to even have loyal customers, some of which ordered several hundred to thousands of attacks on the service. These attackers can be expected to not just wanting to annoy their targets, but intentionally wanting to cause damage to them. While TWBooter can claim their services are legal, due to the fact that they are supposed to only attack server's owned by an attacker, at some point they should also have investigated whether their top attackers really owned (a majority of the) servers. To lower the ease of DDoS attacks, regulation has to be set up for these services that force them to do such a check on their customers. Other customer validation procedures, such as KYC (Know Your Customer, a method where a service identifies their customers via an ID-card or Electric Bill), could also aid in this. The data in this analysis is very narrow: we do not have any information about the scale of the attack traffic and we do not know if the attacks even took place or was succesful. E.g. some records might be erroneuous or attacks may have been stopped manually long before the attack had the duration that is indicated in the dataset. Additionally there may be users that use multiple accounts on TWBooter, for example to prevent being pinpointed by law enforcement if a database leak occurs, or even users that used TWBooter to resell DDoS services. For further investigation it would be interesting to find out for what percentage of Booter attacks during 2013 TWBooter could be accused for, or what the total economic damage caused, but also the total gain of the operators of TWBooter was.\n"
   ]
  }
 ],
 "metadata": {
  "kernelspec": {
   "display_name": "Python 3",
   "language": "python",
   "name": "python3"
  },
  "language_info": {
   "codemirror_mode": {
    "name": "ipython",
    "version": 3
   },
   "file_extension": ".py",
   "mimetype": "text/x-python",
   "name": "python",
   "nbconvert_exporter": "python",
   "pygments_lexer": "ipython3",
   "version": "3.7.0"
  }
 },
 "nbformat": 4,
 "nbformat_minor": 4
}
